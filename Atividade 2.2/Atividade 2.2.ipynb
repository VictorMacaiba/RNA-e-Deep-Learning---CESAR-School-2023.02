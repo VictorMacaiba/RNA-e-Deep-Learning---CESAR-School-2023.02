{
  "cells": [
    {
      "cell_type": "markdown",
      "metadata": {
        "id": "5yQgzdjbf9RT"
      },
      "source": [
        "# Regressão Linear com NumPy"
      ]
    },
    {
      "cell_type": "markdown",
      "metadata": {
        "heading_collapsed": true,
        "id": "p5HfrYM3f9RU"
      },
      "source": [
        "## Objetivos deste experimento"
      ]
    },
    {
      "cell_type": "markdown",
      "metadata": {
        "hidden": true,
        "id": "IIYC2db7f9RW"
      },
      "source": [
        "Este exemplo utiliza regressão linear para estimar o comprimento das sépalas da íris a partir do seu comprimento das pétalas.\n",
        "Utiliza-se programação totalmente NumPy com:\n",
        "- o **cálculo do gradiente**,\n",
        "- a **função de perda** e\n",
        "- a atualização dos parâmetros são feitos de forma explícita.\n",
        "- A rede é criada com uma camada como uma classe"
      ]
    },
    {
      "cell_type": "markdown",
      "metadata": {
        "hidden": true,
        "id": "ImJOZIiNf9RW"
      },
      "source": [
        "![alt text](https://raw.githubusercontent.com/vcasadei/images/master/RegressaoLinear_Otimizacao.png)"
      ]
    },
    {
      "cell_type": "markdown",
      "metadata": {
        "heading_collapsed": true,
        "id": "EeTHWCuMf9RX"
      },
      "source": [
        "## Importação dos pacotes"
      ]
    },
    {
      "cell_type": "code",
      "execution_count": 16,
      "metadata": {
        "ExecuteTime": {
          "end_time": "2017-10-08T11:19:38.728936Z",
          "start_time": "2017-10-08T11:19:36.888541Z"
        },
        "hidden": true,
        "id": "5yPytaCLf9RY"
      },
      "outputs": [],
      "source": [
        "%matplotlib inline\n",
        "import matplotlib.pyplot as plt   # para plotting\n",
        "\n",
        "from sklearn.datasets import load_iris  # para carregar dataset\n",
        "\n",
        "import numpy as np  # processamento matricial\n",
        "\n",
        "np.random.seed(1234)"
      ]
    },
    {
      "cell_type": "markdown",
      "metadata": {
        "heading_collapsed": true,
        "id": "wDkSLSnmf9Rc"
      },
      "source": [
        "## Dataset"
      ]
    },
    {
      "cell_type": "markdown",
      "metadata": {
        "heading_collapsed": true,
        "hidden": true,
        "id": "ldcOnrBvf9Rd"
      },
      "source": [
        "### Leitura dos dados"
      ]
    },
    {
      "cell_type": "code",
      "execution_count": 17,
      "metadata": {
        "ExecuteTime": {
          "end_time": "2017-10-08T11:19:38.747769Z",
          "start_time": "2017-10-08T11:19:38.730907Z"
        },
        "colab": {
          "base_uri": "https://localhost:8080/"
        },
        "hidden": true,
        "id": "l3t1qaa0f9Re",
        "outputId": "9a05ab69-f58c-4309-b731-f7c6aa8cde71"
      },
      "outputs": [
        {
          "output_type": "stream",
          "name": "stdout",
          "text": [
            "x_train.shape: (50, 1) float64\n",
            "y_train.shape: (50, 1) float64\n",
            "x_train[:5]:\n",
            " [[7. ]\n",
            " [6.4]\n",
            " [6.9]\n",
            " [5.5]\n",
            " [6.5]]\n",
            "y_train[:5]:\n",
            " [[4.7]\n",
            " [4.5]\n",
            " [4.9]\n",
            " [4. ]\n",
            " [4.6]]\n"
          ]
        }
      ],
      "source": [
        "iris = load_iris()\n",
        "data = iris.data[iris.target==1,::2]  # comprimento das sépalas e pétalas, indices 0 e 2\n",
        "\n",
        "x_train = data[:,0:1]\n",
        "y_train = data[:,1:2]\n",
        "\n",
        "n_samples = x_train.shape[0]\n",
        "print('x_train.shape:',x_train.shape, x_train.dtype)\n",
        "print('y_train.shape:',y_train.shape, y_train.dtype)\n",
        "\n",
        "print('x_train[:5]:\\n', x_train[:5])\n",
        "print('y_train[:5]:\\n', y_train[:5])"
      ]
    },
    {
      "cell_type": "markdown",
      "metadata": {
        "hidden": true,
        "id": "aPQ-L6FVf9Rk"
      },
      "source": [
        "### Normalização dos dados"
      ]
    },
    {
      "cell_type": "code",
      "execution_count": 18,
      "metadata": {
        "ExecuteTime": {
          "end_time": "2017-10-08T11:19:38.756343Z",
          "start_time": "2017-10-08T11:19:38.750395Z"
        },
        "hidden": true,
        "id": "POM323GEf9Rl"
      },
      "outputs": [],
      "source": [
        "x_train -= x_train.min()\n",
        "x_train /= x_train.max()\n",
        "y_train -= y_train.min()\n",
        "y_train /= y_train.max()"
      ]
    },
    {
      "cell_type": "code",
      "execution_count": 19,
      "metadata": {
        "ExecuteTime": {
          "end_time": "2017-10-08T11:19:39.127199Z",
          "start_time": "2017-10-08T11:19:38.759104Z"
        },
        "colab": {
          "base_uri": "https://localhost:8080/",
          "height": 466
        },
        "hidden": true,
        "id": "dx5AO9Qxf9Rn",
        "outputId": "1cf87da8-d32d-4eaf-c6a3-17490dc4c24f"
      },
      "outputs": [
        {
          "output_type": "execute_result",
          "data": {
            "text/plain": [
              "Text(0, 0.5, 'Comprimento petalas')"
            ]
          },
          "metadata": {},
          "execution_count": 19
        },
        {
          "output_type": "display_data",
          "data": {
            "text/plain": [
              "<Figure size 640x480 with 1 Axes>"
            ],
            "image/png": "[encoded data removed]"
          },
          "metadata": {}
        }
      ],
      "source": [
        "plt.scatter(x_train,y_train)\n",
        "plt.xlabel('Comprimento sepalas')\n",
        "plt.ylabel('Comprimento petalas')"
      ]
    },
    {
      "cell_type": "markdown",
      "metadata": {
        "heading_collapsed": true,
        "id": "poW81teqf9Rr"
      },
      "source": [
        "## Modelo da rede"
      ]
    },
    {
      "cell_type": "markdown",
      "metadata": {
        "hidden": true,
        "id": "QXFLlJ0_f9Rt"
      },
      "source": [
        "### Reta de ajuste"
      ]
    },
    {
      "cell_type": "markdown",
      "metadata": {
        "hidden": true,
        "id": "s7JuPXysf9Rt"
      },
      "source": [
        "A equação da reta no plano necessita de dois parâmetros, aqui denominados $w_0$ (*bias*) e inclinação $w_1$. Veja figura:\n",
        "\n",
        "![alt text](https://raw.githubusercontent.com/vcasadei/images/master/linhareta.png)\n",
        "\n",
        "A reta de ajuste será dada por:\n",
        "\n",
        "$$ \\hat{y} = w_0 + w_1 x $$\n",
        "\n",
        "onde\n",
        "* $w_1$ é o coeficiente angular da reta e\n",
        "* $w_0$ é a interseção do eixo vertical quando x é igual a zero, também denominado de *bias*.\n",
        "* $x$ é a variável de entrada (comprimento das sépalas) e\n",
        "* $\\hat{y}$ é a predição (comprimento estimado das pétalas)."
      ]
    },
    {
      "cell_type": "markdown",
      "metadata": {
        "hidden": true,
        "id": "hwin_xPff9Ru"
      },
      "source": [
        "### Linear Regression Model"
      ]
    },
    {
      "cell_type": "markdown",
      "metadata": {
        "hidden": true,
        "id": "c7ilOLnkf9Rw"
      },
      "source": [
        "![alt text](https://raw.githubusercontent.com/vcasadei/images/master/RegressaoLinearNeuronio.png)"
      ]
    },
    {
      "cell_type": "markdown",
      "metadata": {
        "hidden": true,
        "id": "H0CzMB91f9Rx"
      },
      "source": [
        "### Formulação matricial do neurônio"
      ]
    },
    {
      "cell_type": "markdown",
      "metadata": {
        "hidden": true,
        "id": "-wWz_wpYf9Ry"
      },
      "source": [
        "* $\\mathbf{w} = [w_0 \\ w_1]$ é vetor linha de parâmetros e\n",
        "* $\\mathbf{x} = [1 \\ x_0] $ é vetor linha de uma amostra (com *bias*).\n",
        "\n",
        "$$ \\hat{y} = 1 w_0 + x_0 w_1 $$\n",
        "\n",
        "$$ [\\hat{y}] = [1 \\ x_0] \\begin{bmatrix} w_0 \\\\ w_1 \\end{bmatrix} $$\n",
        "\n",
        "$$ \\mathbf{\\hat{y}} = \\mathbf{x} \\mathbf{w^T} $$"
      ]
    },
    {
      "cell_type": "markdown",
      "metadata": {
        "hidden": true,
        "id": "rQ1lc-dYf9Rz"
      },
      "source": [
        "### Fazendo o predict de várias amostras"
      ]
    },
    {
      "cell_type": "markdown",
      "metadata": {
        "hidden": true,
        "id": "fh068Clrf9R0"
      },
      "source": [
        "$$ \\begin{matrix}\n",
        "\\begin{bmatrix}\n",
        "\\hat{y}_0\\\\\n",
        "\\hat{y}_1\\\\\n",
        "\\\\\n",
        "\\hat{y}_{M-1}\n",
        "\\end{bmatrix} &=& \\begin{bmatrix}\n",
        "1 & x_0 \\\\\n",
        "1 & x_1\\\\\n",
        "\\\\\n",
        "1 & x_{M-1} \\\\\n",
        "\\end{bmatrix}\n",
        "&\n",
        "\\begin{bmatrix}\n",
        "w_0\\\\\n",
        "w_1\n",
        "\\end{bmatrix} \\\\\n",
        "(M,1) & & (M,2) & (2,1) \\\\\n",
        "\\end{matrix} $$"
      ]
    },
    {
      "cell_type": "markdown",
      "metadata": {
        "hidden": true,
        "id": "jjSchAsZf9R2"
      },
      "source": [
        "### Preenchendo x com coluna de 1's para bias"
      ]
    },
    {
      "cell_type": "code",
      "execution_count": 20,
      "metadata": {
        "ExecuteTime": {
          "end_time": "2017-10-08T11:19:39.135089Z",
          "start_time": "2017-10-08T11:19:39.129385Z"
        },
        "hidden": true,
        "id": "plZEY5-tf9R2"
      },
      "outputs": [],
      "source": [
        "x_train_bias = np.hstack([np.ones(shape=(n_samples,1)), x_train])"
      ]
    },
    {
      "cell_type": "code",
      "execution_count": 21,
      "metadata": {
        "colab": {
          "base_uri": "https://localhost:8080/"
        },
        "id": "tXYx3JdMf9R6",
        "outputId": "5a647f20-9b31-4463-feea-e0f25e9123ec"
      },
      "outputs": [
        {
          "output_type": "execute_result",
          "data": {
            "text/plain": [
              "array([[1.        , 1.        ],\n",
              "       [1.        , 0.71428571],\n",
              "       [1.        , 0.95238095],\n",
              "       [1.        , 0.28571429],\n",
              "       [1.        , 0.76190476],\n",
              "       [1.        , 0.38095238],\n",
              "       [1.        , 0.66666667],\n",
              "       [1.        , 0.        ],\n",
              "       [1.        , 0.80952381],\n",
              "       [1.        , 0.14285714],\n",
              "       [1.        , 0.04761905],\n",
              "       [1.        , 0.47619048],\n",
              "       [1.        , 0.52380952],\n",
              "       [1.        , 0.57142857],\n",
              "       [1.        , 0.33333333],\n",
              "       [1.        , 0.85714286],\n",
              "       [1.        , 0.33333333],\n",
              "       [1.        , 0.42857143],\n",
              "       [1.        , 0.61904762],\n",
              "       [1.        , 0.33333333],\n",
              "       [1.        , 0.47619048],\n",
              "       [1.        , 0.57142857],\n",
              "       [1.        , 0.66666667],\n",
              "       [1.        , 0.57142857],\n",
              "       [1.        , 0.71428571],\n",
              "       [1.        , 0.80952381],\n",
              "       [1.        , 0.9047619 ],\n",
              "       [1.        , 0.85714286],\n",
              "       [1.        , 0.52380952],\n",
              "       [1.        , 0.38095238],\n",
              "       [1.        , 0.28571429],\n",
              "       [1.        , 0.28571429],\n",
              "       [1.        , 0.42857143],\n",
              "       [1.        , 0.52380952],\n",
              "       [1.        , 0.23809524],\n",
              "       [1.        , 0.52380952],\n",
              "       [1.        , 0.85714286],\n",
              "       [1.        , 0.66666667],\n",
              "       [1.        , 0.33333333],\n",
              "       [1.        , 0.28571429],\n",
              "       [1.        , 0.28571429],\n",
              "       [1.        , 0.57142857],\n",
              "       [1.        , 0.42857143],\n",
              "       [1.        , 0.04761905],\n",
              "       [1.        , 0.33333333],\n",
              "       [1.        , 0.38095238],\n",
              "       [1.        , 0.38095238],\n",
              "       [1.        , 0.61904762],\n",
              "       [1.        , 0.0952381 ],\n",
              "       [1.        , 0.38095238]])"
            ]
          },
          "metadata": {},
          "execution_count": 21
        }
      ],
      "source": [
        "x_train_bias"
      ]
    },
    {
      "cell_type": "markdown",
      "metadata": {
        "hidden": true,
        "id": "GOtS_8OSf9SC"
      },
      "source": [
        "### Classe com o modelo da rede"
      ]
    },
    {
      "cell_type": "code",
      "execution_count": 22,
      "metadata": {
        "ExecuteTime": {
          "end_time": "2017-10-08T11:19:39.143879Z",
          "start_time": "2017-10-08T11:19:39.137134Z"
        },
        "hidden": true,
        "id": "aKLVIQUtf9SD"
      },
      "outputs": [],
      "source": [
        "class Net():\n",
        "    def __init__(self, n_in, n_out):\n",
        "        self.w = np.random.uniform(-0.1,0.1,(n_out,n_in)) #inicialização dos parâmetros\n",
        "\n",
        "    def forward(self, x_bias):\n",
        "        return x_bias.dot(self.w.T)"
      ]
    },
    {
      "cell_type": "markdown",
      "metadata": {
        "hidden": true,
        "id": "0j0hN9l_f9SH"
      },
      "source": [
        "### Criando a rede, instanciando o objeto model"
      ]
    },
    {
      "cell_type": "code",
      "execution_count": 28,
      "metadata": {
        "ExecuteTime": {
          "end_time": "2017-10-08T11:19:39.151717Z",
          "start_time": "2017-10-08T11:19:39.146858Z"
        },
        "hidden": true,
        "id": "5o5Zkqn5f9SI"
      },
      "outputs": [],
      "source": [
        "model = Net(2,1) # duas entradas (1 + x0) e uma saída y_pred"
      ]
    },
    {
      "cell_type": "markdown",
      "source": [
        "Realizar forward para verificar se a rede está correta"
      ],
      "metadata": {
        "id": "ybNWEhGq_52G"
      }
    },
    {
      "cell_type": "code",
      "source": [
        "model.forward(x_train_bias)"
      ],
      "metadata": {
        "id": "VJuNrlVI_-qf"
      },
      "execution_count": null,
      "outputs": []
    },
    {
      "cell_type": "markdown",
      "metadata": {
        "hidden": true,
        "id": "F3yolUOGf9SL"
      },
      "source": [
        "### Testando o predict da rede (mesmo sem treiná-la)"
      ]
    },
    {
      "cell_type": "code",
      "execution_count": 24,
      "metadata": {
        "ExecuteTime": {
          "end_time": "2017-10-08T11:19:39.162189Z",
          "start_time": "2017-10-08T11:19:39.156018Z"
        },
        "colab": {
          "base_uri": "https://localhost:8080/"
        },
        "hidden": true,
        "id": "BzkEurfof9SN",
        "outputId": "df8a42ff-35f9-404c-c8f9-99114e3e4c00"
      },
      "outputs": [
        {
          "output_type": "execute_result",
          "data": {
            "text/plain": [
              "array([[-0.09602795],\n",
              "       [ 0.0661236 ],\n",
              "       [-0.06857828],\n",
              "       [-0.05573871]])"
            ]
          },
          "metadata": {},
          "execution_count": 24
        }
      ],
      "source": [
        "xin = np.random.randn(4,2) # 4 amostras, 2 entradas (1 + x0)\n",
        "ypred = model.forward(xin)\n",
        "ypred"
      ]
    },
    {
      "cell_type": "markdown",
      "metadata": {
        "heading_collapsed": true,
        "id": "edoSiy--f9SS"
      },
      "source": [
        "## Treinamento via gradiente descendente"
      ]
    },
    {
      "cell_type": "markdown",
      "metadata": {
        "hidden": true,
        "id": "SnkXXFref9ST"
      },
      "source": [
        "Função de perda:\n",
        "$$ J(\\hat{y_i},y_i) = \\frac{1}{M} \\sum_{i=0}^{M-1} (\\hat{y_i} - y_i)^2 $$"
      ]
    },
    {
      "cell_type": "markdown",
      "metadata": {
        "ExecuteTime": {
          "end_time": "2017-10-05T14:05:06.244776",
          "start_time": "2017-10-05T14:05:06.240743"
        },
        "hidden": true,
        "id": "6W5QcPwUf9SU"
      },
      "source": [
        "Gradiente:\n",
        "$$  \\mathbf{\\nabla{J_w}} = \\frac{2}{M}\\mathbf{x^T}(\\mathbf{x w^T} - \\mathbf{y}) $$"
      ]
    },
    {
      "cell_type": "markdown",
      "metadata": {
        "ExecuteTime": {
          "end_time": "2017-10-05T14:06:17.929718",
          "start_time": "2017-10-05T14:06:17.925519"
        },
        "hidden": true,
        "id": "6OoQuuvAf9SU"
      },
      "source": [
        "Atualização dos parâmetros pelo gradiente descendente:\n",
        "$$ \\mathbf{w} = \\mathbf{w} − \\eta (\\mathbf{\\nabla J_w})^T $$"
      ]
    },
    {
      "cell_type": "markdown",
      "metadata": {
        "hidden": true,
        "id": "YM0fEnAdf9SW"
      },
      "source": [
        "### Laço de treinamento"
      ]
    },
    {
      "cell_type": "code",
      "execution_count": 29,
      "metadata": {
        "ExecuteTime": {
          "end_time": "2017-10-08T11:19:39.183784Z",
          "start_time": "2017-10-08T11:19:39.165347Z"
        },
        "colab": {
          "base_uri": "https://localhost:8080/"
        },
        "hidden": true,
        "id": "BiCGgqp6f9SX",
        "outputId": "1ed87c90-5840-4bcb-ba3a-d02a8c2d0ebe",
        "scrolled": false
      },
      "outputs": [
        {
          "output_type": "stream",
          "name": "stdout",
          "text": [
            "0.4323749322844236\n",
            "[[-1.23982365]\n",
            " [-0.69148501]]\n",
            "[[-0.02594985  0.01223924]]\n",
            "[[0.59396198 0.35798174]]\n",
            "Epoch[1/100], loss: 0.432375\n",
            "0.05665100995877702\n",
            "[[0.34113261]\n",
            " [0.12939434]]\n",
            "[[0.59396198 0.35798174]]\n",
            "[[0.42339567 0.29328457]]\n",
            "Epoch[2/100], loss: 0.056651\n",
            "0.031341257692772975\n",
            "[[-0.06383454]\n",
            " [-0.07805054]]\n",
            "[[0.42339567 0.29328457]]\n",
            "[[0.45531294 0.33230984]]\n",
            "Epoch[3/100], loss: 0.031341\n",
            "0.028966403049365527\n",
            "[[ 0.03850493]\n",
            " [-0.02294191]]\n",
            "[[0.45531294 0.33230984]]\n",
            "[[0.43606048 0.3437808 ]]\n",
            "Epoch[4/100], loss: 0.028966\n",
            "0.028154495469271675\n",
            "[[ 0.01131801]\n",
            " [-0.0349958 ]]\n",
            "[[0.43606048 0.3437808 ]]\n",
            "[[0.43040147 0.3612787 ]]\n",
            "Epoch[5/100], loss: 0.028154\n",
            "0.027505062290601026\n",
            "[[ 0.01726459]\n",
            " [-0.02999014]]\n",
            "[[0.43040147 0.3612787 ]]\n",
            "[[0.42176918 0.37627377]]\n",
            "Epoch[6/100], loss: 0.027505\n",
            "0.02692116232799946\n",
            "[[ 0.01479514]\n",
            " [-0.02943277]]\n",
            "[[0.42176918 0.37627377]]\n",
            "[[0.41437161 0.39099015]]\n",
            "Epoch[7/100], loss: 0.026921\n",
            "0.026391411763938964\n",
            "[[ 0.01452017]\n",
            " [-0.02782579]]\n",
            "[[0.41437161 0.39099015]]\n",
            "[[0.40711152 0.40490305]]\n",
            "Epoch[8/100], loss: 0.026391\n",
            "0.025910474606202803\n",
            "[[ 0.01372739]\n",
            " [-0.02656941]]\n",
            "[[0.40711152 0.40490305]]\n",
            "[[0.40024783 0.41818775]]\n",
            "Epoch[9/100], loss: 0.025910\n",
            "0.025473832465036334\n",
            "[[ 0.01310757]\n",
            " [-0.02530208]]\n",
            "[[0.40024783 0.41818775]]\n",
            "[[0.39369404 0.43083879]]\n",
            "Epoch[10/100], loss: 0.025474\n",
            "0.02507740436567264\n",
            "[[ 0.01248236]\n",
            " [-0.02411245]]\n",
            "[[0.39369404 0.43083879]]\n",
            "[[0.38745286 0.44289502]]\n",
            "Epoch[11/100], loss: 0.025077\n",
            "0.024717486571925167\n",
            "[[ 0.01189548]\n",
            " [-0.02297435]]\n",
            "[[0.38745286 0.44289502]]\n",
            "[[0.38150512 0.45438219]]\n",
            "Epoch[12/100], loss: 0.024717\n",
            "0.024390716545473597\n",
            "[[ 0.01133401]\n",
            " [-0.02189109]]\n",
            "[[0.38150512 0.45438219]]\n",
            "[[0.37583812 0.46532774]]\n",
            "Epoch[13/100], loss: 0.024391\n",
            "0.024094041437501865\n",
            "[[ 0.0107996 ]\n",
            " [-0.02085862]]\n",
            "[[0.37583812 0.46532774]]\n",
            "[[0.37043832 0.47575705]]\n",
            "Epoch[14/100], loss: 0.024094\n",
            "0.023824689561340692\n",
            "[[ 0.01029025]\n",
            " [-0.01987492]]\n",
            "[[0.37043832 0.47575705]]\n",
            "[[0.36529319 0.48569451]]\n",
            "Epoch[15/100], loss: 0.023825\n",
            "0.023580144497590595\n",
            "[[ 0.00980496]\n",
            " [-0.01893759]]\n",
            "[[0.36529319 0.48569451]]\n",
            "[[0.36039071 0.4951633 ]]\n",
            "Epoch[16/100], loss: 0.023580\n",
            "0.023358121584452322\n",
            "[[ 0.00934254]\n",
            " [-0.01804447]]\n",
            "[[0.36039071 0.4951633 ]]\n",
            "[[0.35571944 0.50418554]]\n",
            "Epoch[17/100], loss: 0.023358\n",
            "0.02315654657327654\n",
            "[[ 0.00890194]\n",
            " [-0.01719347]]\n",
            "[[0.35571944 0.50418554]]\n",
            "[[0.35126847 0.51278227]]\n",
            "Epoch[18/100], loss: 0.023157\n",
            "0.02297353624989963\n",
            "[[ 0.00848211]\n",
            " [-0.01638261]]\n",
            "[[0.35126847 0.51278227]]\n",
            "[[0.34702741 0.52097358]]\n",
            "Epoch[19/100], loss: 0.022974\n",
            "0.02280738084071892\n",
            "[[ 0.00808209]\n",
            " [-0.01560999]]\n",
            "[[0.34702741 0.52097358]]\n",
            "[[0.34298637 0.52877857]]\n",
            "Epoch[20/100], loss: 0.022807\n",
            "0.02265652803913595\n",
            "[[ 0.00770093]\n",
            " [-0.0148738 ]]\n",
            "[[0.34298637 0.52877857]]\n",
            "[[0.3391359  0.53621547]]\n",
            "Epoch[21/100], loss: 0.022657\n",
            "0.022519568503135058\n",
            "[[ 0.00733774]\n",
            " [-0.01417234]]\n",
            "[[0.3391359  0.53621547]]\n",
            "[[0.33546703 0.54330164]]\n",
            "Epoch[22/100], loss: 0.022520\n",
            "0.02239522268850818\n",
            "[[ 0.00699169]\n",
            " [-0.01350395]]\n",
            "[[0.33546703 0.54330164]]\n",
            "[[0.33197119 0.55005362]]\n",
            "Epoch[23/100], loss: 0.022395\n",
            "0.02228232889471554\n",
            "[[ 0.00666195]\n",
            " [-0.01286709]]\n",
            "[[0.33197119 0.55005362]]\n",
            "[[0.32864022 0.55648716]]\n",
            "Epoch[24/100], loss: 0.022282\n",
            "0.02217983241170049\n",
            "[[ 0.00634776]\n",
            " [-0.01226026]]\n",
            "[[0.32864022 0.55648716]]\n",
            "[[0.32546633 0.56261729]]\n",
            "Epoch[25/100], loss: 0.022180\n",
            "0.022086775666262822\n",
            "[[ 0.0060484 ]\n",
            " [-0.01168205]]\n",
            "[[0.32546633 0.56261729]]\n",
            "[[0.32244214 0.56845832]]\n",
            "Epoch[26/100], loss: 0.022087\n",
            "0.022002289275932924\n",
            "[[ 0.00576315]\n",
            " [-0.01113111]]\n",
            "[[0.32244214 0.56845832]]\n",
            "[[0.31956056 0.57402388]]\n",
            "Epoch[27/100], loss: 0.022002\n",
            "0.021925583926767706\n",
            "[[ 0.00549135]\n",
            " [-0.01060616]]\n",
            "[[0.31956056 0.57402388]]\n",
            "[[0.31681489 0.57932696]]\n",
            "Epoch[28/100], loss: 0.021926\n",
            "0.021855942999186542\n",
            "[[ 0.00523237]\n",
            " [-0.01010596]]\n",
            "[[0.31681489 0.57932696]]\n",
            "[[0.3141987  0.58437994]]\n",
            "Epoch[29/100], loss: 0.021856\n",
            "0.021792715872954213\n",
            "[[ 0.00498561]\n",
            " [-0.00962935]]\n",
            "[[0.3141987  0.58437994]]\n",
            "[[0.3117059  0.58919461]]\n",
            "Epoch[30/100], loss: 0.021793\n",
            "0.021735311848762536\n",
            "[[ 0.00475048]\n",
            " [-0.00917522]]\n",
            "[[0.3117059  0.58919461]]\n",
            "[[0.30933066 0.59378222]]\n",
            "Epoch[31/100], loss: 0.021735\n",
            "0.021683194629623235\n",
            "[[ 0.00452644]\n",
            " [-0.00874251]]\n",
            "[[0.30933066 0.59378222]]\n",
            "[[0.30706744 0.59815347]]\n",
            "Epoch[32/100], loss: 0.021683\n",
            "0.021635877310514324\n",
            "[[ 0.00431297]\n",
            " [-0.0083302 ]]\n",
            "[[0.30706744 0.59815347]]\n",
            "[[0.30491095 0.60231857]]\n",
            "Epoch[33/100], loss: 0.021636\n",
            "0.021592917829470815\n",
            "[[ 0.00410956]\n",
            " [-0.00793734]]\n",
            "[[0.30491095 0.60231857]]\n",
            "[[0.30285617 0.60628724]]\n",
            "Epoch[34/100], loss: 0.021593\n",
            "0.02155391483762169\n",
            "[[ 0.00391575]\n",
            " [-0.007563  ]]\n",
            "[[0.30285617 0.60628724]]\n",
            "[[0.30089829 0.61006874]]\n",
            "Epoch[35/100], loss: 0.021554\n",
            "0.021518503949588794\n",
            "[[ 0.00373108]\n",
            " [-0.00720632]]\n",
            "[[0.30089829 0.61006874]]\n",
            "[[0.29903275 0.6136719 ]]\n",
            "Epoch[36/100], loss: 0.021519\n",
            "0.021486354339217147\n",
            "[[ 0.00355512]\n",
            " [-0.00686646]]\n",
            "[[0.29903275 0.6136719 ]]\n",
            "[[0.29725519 0.61710514]]\n",
            "Epoch[37/100], loss: 0.021486\n",
            "0.021457165648832172\n",
            "[[ 0.00338746]\n",
            " [-0.00654263]]\n",
            "[[0.29725519 0.61710514]]\n",
            "[[0.29556147 0.62037645]]\n",
            "Epoch[38/100], loss: 0.021457\n",
            "0.02143066518314873\n",
            "[[ 0.0032277 ]\n",
            " [-0.00623408]]\n",
            "[[0.29556147 0.62037645]]\n",
            "[[0.29394762 0.62349349]]\n",
            "Epoch[39/100], loss: 0.021431\n",
            "0.02140660536161592\n",
            "[[ 0.00307548]\n",
            " [-0.00594007]]\n",
            "[[0.29394762 0.62349349]]\n",
            "[[0.29240988 0.62646352]]\n",
            "Epoch[40/100], loss: 0.021407\n",
            "0.021384761405396212\n",
            "[[ 0.00293043]\n",
            " [-0.00565993]]\n",
            "[[0.29240988 0.62646352]]\n",
            "[[0.29094466 0.62929349]]\n",
            "Epoch[41/100], loss: 0.021385\n",
            "0.021364929237369615\n",
            "[[ 0.00279223]\n",
            " [-0.005393  ]]\n",
            "[[0.29094466 0.62929349]]\n",
            "[[0.28954855 0.63198999]]\n",
            "Epoch[42/100], loss: 0.021365\n",
            "0.02134692357554358\n",
            "[[ 0.00266055]\n",
            " [-0.00513866]]\n",
            "[[0.28954855 0.63198999]]\n",
            "[[0.28821827 0.63455932]]\n",
            "Epoch[43/100], loss: 0.021347\n",
            "0.02133057620205627\n",
            "[[ 0.00253507]\n",
            " [-0.00489631]]\n",
            "[[0.28821827 0.63455932]]\n",
            "[[0.28695074 0.63700747]]\n",
            "Epoch[44/100], loss: 0.021331\n",
            "0.02131573439160157\n",
            "[[ 0.00241551]\n",
            " [-0.0046654 ]]\n",
            "[[0.28695074 0.63700747]]\n",
            "[[0.28574298 0.63934017]]\n",
            "Epoch[45/100], loss: 0.021316\n",
            "0.02130225948459316\n",
            "[[ 0.0023016 ]\n",
            " [-0.00444537]]\n",
            "[[0.28574298 0.63934017]]\n",
            "[[0.28459218 0.64156286]]\n",
            "Epoch[46/100], loss: 0.021302\n",
            "0.021290025591737597\n",
            "[[ 0.00219305]\n",
            " [-0.00423572]]\n",
            "[[0.28459218 0.64156286]]\n",
            "[[0.28349566 0.64368072]]\n",
            "Epoch[47/100], loss: 0.021290\n",
            "0.02127891841791384\n",
            "[[ 0.00208962]\n",
            " [-0.00403596]]\n",
            "[[0.28349566 0.64368072]]\n",
            "[[0.28245084 0.6456987 ]]\n",
            "Epoch[48/100], loss: 0.021279\n",
            "0.02126883419437129\n",
            "[[ 0.00199107]\n",
            " [-0.00384562]]\n",
            "[[0.28245084 0.6456987 ]]\n",
            "[[0.28145531 0.64762151]]\n",
            "Epoch[49/100], loss: 0.021269\n",
            "0.02125967870927042\n",
            "[[ 0.00189717]\n",
            " [-0.00366426]]\n",
            "[[0.28145531 0.64762151]]\n",
            "[[0.28050672 0.64945364]]\n",
            "Epoch[50/100], loss: 0.021260\n",
            "0.021251366427508862\n",
            "[[ 0.0018077 ]\n",
            " [-0.00349145]]\n",
            "[[0.28050672 0.64945364]]\n",
            "[[0.27960287 0.65119937]]\n",
            "Epoch[51/100], loss: 0.021251\n",
            "0.021243819691609857\n",
            "[[ 0.00172245]\n",
            " [-0.00332679]]\n",
            "[[0.27960287 0.65119937]]\n",
            "[[0.27874165 0.65286276]]\n",
            "Epoch[52/100], loss: 0.021244\n",
            "0.02123696799620743\n",
            "[[ 0.00164121]\n",
            " [-0.00316989]]\n",
            "[[0.27874165 0.65286276]]\n",
            "[[0.27792104 0.6544477 ]]\n",
            "Epoch[53/100], loss: 0.021237\n",
            "0.02123074732935015\n",
            "[[ 0.00156381]\n",
            " [-0.0030204 ]]\n",
            "[[0.27792104 0.6544477 ]]\n",
            "[[0.27713913 0.6559579 ]]\n",
            "Epoch[54/100], loss: 0.021231\n",
            "0.021225099574469563\n",
            "[[ 0.00149006]\n",
            " [-0.00287795]]\n",
            "[[0.27713913 0.6559579 ]]\n",
            "[[0.2763941  0.65739688]]\n",
            "Epoch[55/100], loss: 0.021225\n",
            "0.021219971967426306\n",
            "[[ 0.00141979]\n",
            " [-0.00274222]]\n",
            "[[0.2763941  0.65739688]]\n",
            "[[0.27568421 0.65876799]]\n",
            "Epoch[56/100], loss: 0.021220\n",
            "0.021215316603561206\n",
            "[[ 0.00135283]\n",
            " [-0.0026129 ]]\n",
            "[[0.27568421 0.65876799]]\n",
            "[[0.27500779 0.66007444]]\n",
            "Epoch[57/100], loss: 0.021215\n",
            "0.021211089990146075\n",
            "[[ 0.00128903]\n",
            " [-0.00248967]]\n",
            "[[0.27500779 0.66007444]]\n",
            "[[0.27436328 0.66131927]]\n",
            "Epoch[58/100], loss: 0.021211\n",
            "0.021207252640053027\n",
            "[[ 0.00122824]\n",
            " [-0.00237225]]\n",
            "[[0.27436328 0.66131927]]\n",
            "[[0.27374916 0.6625054 ]]\n",
            "Epoch[59/100], loss: 0.021207\n",
            "0.021203768702846015\n",
            "[[ 0.00117031]\n",
            " [-0.00226037]]\n",
            "[[0.27374916 0.6625054 ]]\n",
            "[[0.273164   0.66363558]]\n",
            "Epoch[60/100], loss: 0.021204\n",
            "0.021200605629848223\n",
            "[[ 0.00111512]\n",
            " [-0.00215377]]\n",
            "[[0.273164   0.66363558]]\n",
            "[[0.27260645 0.66471247]]\n",
            "Epoch[61/100], loss: 0.021201\n",
            "0.021197733870056107\n",
            "[[ 0.00106253]\n",
            " [-0.0020522 ]]\n",
            "[[0.27260645 0.66471247]]\n",
            "[[0.27207518 0.66573857]]\n",
            "Epoch[62/100], loss: 0.021198\n",
            "0.021195126594059185\n",
            "[[ 0.00101242]\n",
            " [-0.00195541]]\n",
            "[[0.27207518 0.66573857]]\n",
            "[[0.27156897 0.66671628]]\n",
            "Epoch[63/100], loss: 0.021195\n",
            "0.02119275944338636\n",
            "[[ 0.00096467]\n",
            " [-0.00186319]]\n",
            "[[0.27156897 0.66671628]]\n",
            "[[0.27108664 0.66764787]]\n",
            "Epoch[64/100], loss: 0.021193\n",
            "0.021190610302936928\n",
            "[[ 0.00091918]\n",
            " [-0.00177532]]\n",
            "[[0.27108664 0.66764787]]\n",
            "[[0.27062705 0.66853554]]\n",
            "Epoch[65/100], loss: 0.021191\n",
            "0.021188659094370243\n",
            "[[ 0.00087583]\n",
            " [-0.0016916 ]]\n",
            "[[0.27062705 0.66853554]]\n",
            "[[0.27018914 0.66938133]]\n",
            "Epoch[66/100], loss: 0.021189\n",
            "0.021186887588523953\n",
            "[[ 0.00083452]\n",
            " [-0.00161182]]\n",
            "[[0.27018914 0.66938133]]\n",
            "[[0.26977187 0.67018724]]\n",
            "Epoch[67/100], loss: 0.021187\n",
            "0.02118527923510801\n",
            "[[ 0.00079516]\n",
            " [-0.0015358 ]]\n",
            "[[0.26977187 0.67018724]]\n",
            "[[0.26937429 0.67095515]]\n",
            "Epoch[68/100], loss: 0.021185\n",
            "0.02118381900808364\n",
            "[[ 0.00075766]\n",
            " [-0.00146337]]\n",
            "[[0.26937429 0.67095515]]\n",
            "[[0.26899546 0.67168683]]\n",
            "Epoch[69/100], loss: 0.021184\n",
            "0.021182493265282612\n",
            "[[ 0.00072193]\n",
            " [-0.00139436]]\n",
            "[[0.26899546 0.67168683]]\n",
            "[[0.2686345  0.67238401]]\n",
            "Epoch[70/100], loss: 0.021182\n",
            "0.021181289620955293\n",
            "[[ 0.00068788]\n",
            " [-0.0013286 ]]\n",
            "[[0.2686345  0.67238401]]\n",
            "[[0.26829055 0.67304831]]\n",
            "Epoch[71/100], loss: 0.021181\n",
            "0.021180196830056817\n",
            "[[ 0.00065544]\n",
            " [-0.00126594]]\n",
            "[[0.26829055 0.67304831]]\n",
            "[[0.26796283 0.67368129]]\n",
            "Epoch[72/100], loss: 0.021180\n",
            "0.02117920468319026\n",
            "[[ 0.00062453]\n",
            " [-0.00120624]]\n",
            "[[0.26796283 0.67368129]]\n",
            "[[0.26765057 0.6742844 ]]\n",
            "Epoch[73/100], loss: 0.021179\n",
            "0.021178303911225393\n",
            "[[ 0.00059508]\n",
            " [-0.00114935]]\n",
            "[[0.26765057 0.6742844 ]]\n",
            "[[0.26735303 0.67485908]]\n",
            "Epoch[74/100], loss: 0.021178\n",
            "0.021177486098701816\n",
            "[[ 0.00056701]\n",
            " [-0.00109515]]\n",
            "[[0.26735303 0.67485908]]\n",
            "[[0.26706952 0.67540665]]\n",
            "Epoch[75/100], loss: 0.021177\n",
            "0.021176743605207562\n",
            "[[ 0.00054027]\n",
            " [-0.0010435 ]]\n",
            "[[0.26706952 0.67540665]]\n",
            "[[0.26679938 0.6759284 ]]\n",
            "Epoch[76/100], loss: 0.021177\n",
            "0.02117606949399857\n",
            "[[ 0.00051479]\n",
            " [-0.00099429]]\n",
            "[[0.26679938 0.6759284 ]]\n",
            "[[0.26654199 0.67642555]]\n",
            "Epoch[77/100], loss: 0.021176\n",
            "0.021175457467192117\n",
            "[[ 0.00049051]\n",
            " [-0.00094739]]\n",
            "[[0.26654199 0.67642555]]\n",
            "[[0.26629673 0.67689924]]\n",
            "Epoch[78/100], loss: 0.021175\n",
            "0.02117490180692891\n",
            "[[ 0.00046738]\n",
            " [-0.00090271]]\n",
            "[[0.26629673 0.67689924]]\n",
            "[[0.26606304 0.6773506 ]]\n",
            "Epoch[79/100], loss: 0.021175\n",
            "0.021174397321953996\n",
            "[[ 0.00044534]\n",
            " [-0.00086014]]\n",
            "[[0.26606304 0.6773506 ]]\n",
            "[[0.26584037 0.67778067]]\n",
            "Epoch[80/100], loss: 0.021174\n",
            "0.021173939299117442\n",
            "[[ 0.00042434]\n",
            " [-0.00081958]]\n",
            "[[0.26584037 0.67778067]]\n",
            "[[0.2656282  0.67819046]]\n",
            "Epoch[81/100], loss: 0.021174\n",
            "0.02117352345934175\n",
            "[[ 0.00040432]\n",
            " [-0.00078092]]\n",
            "[[0.2656282  0.67819046]]\n",
            "[[0.26542604 0.67858092]]\n",
            "Epoch[82/100], loss: 0.021174\n",
            "0.0211731459176446\n",
            "[[ 0.00038526]\n",
            " [-0.00074409]]\n",
            "[[0.26542604 0.67858092]]\n",
            "[[0.26523341 0.67895297]]\n",
            "Epoch[83/100], loss: 0.021173\n",
            "0.021172803146843396\n",
            "[[ 0.00036709]\n",
            " [-0.000709  ]]\n",
            "[[0.26523341 0.67895297]]\n",
            "[[0.26504987 0.67930747]]\n",
            "Epoch[84/100], loss: 0.021173\n",
            "0.021172491944602564\n",
            "[[ 0.00034977]\n",
            " [-0.00067556]]\n",
            "[[0.26504987 0.67930747]]\n",
            "[[0.26487498 0.67964525]]\n",
            "Epoch[85/100], loss: 0.021172\n",
            "0.021172209403515767\n",
            "[[ 0.00033328]\n",
            " [-0.0006437 ]]\n",
            "[[0.26487498 0.67964525]]\n",
            "[[0.26470834 0.6799671 ]]\n",
            "Epoch[86/100], loss: 0.021172\n",
            "0.02117195288394342\n",
            "[[ 0.00031756]\n",
            " [-0.00061335]]\n",
            "[[0.26470834 0.6799671 ]]\n",
            "[[0.26454956 0.68027377]]\n",
            "Epoch[87/100], loss: 0.021172\n",
            "0.021171719989351905\n",
            "[[ 0.00030258]\n",
            " [-0.00058442]]\n",
            "[[0.26454956 0.68027377]]\n",
            "[[0.26439827 0.68056598]]\n",
            "Epoch[88/100], loss: 0.021172\n",
            "0.021171508543923932\n",
            "[[ 0.00028831]\n",
            " [-0.00055686]]\n",
            "[[0.26439827 0.68056598]]\n",
            "[[0.26425412 0.68084441]]\n",
            "Epoch[89/100], loss: 0.021172\n",
            "0.021171316572230994\n",
            "[[ 0.00027472]\n",
            " [-0.0005306 ]]\n",
            "[[0.26425412 0.68084441]]\n",
            "[[0.26411676 0.68110971]]\n",
            "Epoch[90/100], loss: 0.021171\n",
            "0.02117114228077792\n",
            "[[ 0.00026176]\n",
            " [-0.00050557]]\n",
            "[[0.26411676 0.68110971]]\n",
            "[[0.26398588 0.6813625 ]]\n",
            "Epoch[91/100], loss: 0.021171\n",
            "0.021170984041247107\n",
            "[[ 0.00024942]\n",
            " [-0.00048173]]\n",
            "[[0.26398588 0.6813625 ]]\n",
            "[[0.26386117 0.68160336]]\n",
            "Epoch[92/100], loss: 0.021171\n",
            "0.021170840375286052\n",
            "[[ 0.00023765]\n",
            " [-0.00045901]]\n",
            "[[0.26386117 0.68160336]]\n",
            "[[0.26374234 0.68183287]]\n",
            "Epoch[93/100], loss: 0.021171\n",
            "0.02117070994069579\n",
            "[[ 0.00022644]\n",
            " [-0.00043736]]\n",
            "[[0.26374234 0.68183287]]\n",
            "[[0.26362912 0.68205155]]\n",
            "Epoch[94/100], loss: 0.021171\n",
            "0.021170591518891398\n",
            "[[ 0.00021577]\n",
            " [-0.00041674]]\n",
            "[[0.26362912 0.68205155]]\n",
            "[[0.26352124 0.68225992]]\n",
            "Epoch[95/100], loss: 0.021171\n",
            "0.021170484003517395\n",
            "[[ 0.00020559]\n",
            " [-0.00039708]]\n",
            "[[0.26352124 0.68225992]]\n",
            "[[0.26341844 0.68245846]]\n",
            "Epoch[96/100], loss: 0.021170\n",
            "0.021170386390111595\n",
            "[[ 0.00019589]\n",
            " [-0.00037836]]\n",
            "[[0.26341844 0.68245846]]\n",
            "[[0.26332049 0.68264763]]\n",
            "Epoch[97/100], loss: 0.021170\n",
            "0.021170297766720948\n",
            "[[ 0.00018666]\n",
            " [-0.00036051]]\n",
            "[[0.26332049 0.68264763]]\n",
            "[[0.26322717 0.68282789]]\n",
            "Epoch[98/100], loss: 0.021170\n",
            "0.021170217305381583\n",
            "[[ 0.00017785]\n",
            " [-0.00034351]]\n",
            "[[0.26322717 0.68282789]]\n",
            "[[0.26313824 0.68299964]]\n",
            "Epoch[99/100], loss: 0.021170\n",
            "0.02117014425438359\n",
            "[[ 0.00016946]\n",
            " [-0.00032731]]\n",
            "[[0.26313824 0.68299964]]\n",
            "[[0.26305351 0.6831633 ]]\n",
            "Epoch[100/100], loss: 0.021170\n"
          ]
        }
      ],
      "source": [
        "num_epochs = 100\n",
        "learning_rate = 0.5\n",
        "for epoch in range(num_epochs):\n",
        "\n",
        "    # forward - predict\n",
        "    y_pred = model.forward(x_train_bias)\n",
        "\n",
        "    #loss cálculo da função de perda\n",
        "    loss = np.square(y_pred - y_train).mean()\n",
        "    print(loss)\n",
        "\n",
        "    # cálculo do gradiente pelas derivadas parciais\n",
        "    w_grad = (2.0/n_samples) * (x_train_bias.T).dot(x_train_bias.dot(model.w.T) - y_train)\n",
        "    print(w_grad)\n",
        "\n",
        "    # gradiente descendente\n",
        "    print(model.w)\n",
        "    model.w = model.w - learning_rate * w_grad.T\n",
        "    print(model.w)\n",
        "\n",
        "    # verbose\n",
        "    if (epoch+1) % 1 == 0:\n",
        "        print('Epoch[{}/{}], loss: {:.6f}'\n",
        "              .format(epoch+1, num_epochs, loss))"
      ]
    },
    {
      "cell_type": "markdown",
      "metadata": {
        "heading_collapsed": true,
        "id": "1QGlDZABf9Sd"
      },
      "source": [
        "## Avaliação"
      ]
    },
    {
      "cell_type": "markdown",
      "metadata": {
        "hidden": true,
        "id": "6TIimlCmf9Si"
      },
      "source": [
        "### Predict"
      ]
    },
    {
      "cell_type": "code",
      "execution_count": 30,
      "metadata": {
        "ExecuteTime": {
          "end_time": "2017-10-08T11:19:39.408412Z",
          "start_time": "2017-10-08T11:19:39.186021Z"
        },
        "colab": {
          "base_uri": "https://localhost:8080/",
          "height": 447
        },
        "hidden": true,
        "id": "ToXwbrlsf9Sk",
        "outputId": "d8799a1b-f74f-4b9d-b9cb-9609db926019"
      },
      "outputs": [
        {
          "output_type": "execute_result",
          "data": {
            "text/plain": [
              "[<matplotlib.lines.Line2D at 0x79fb9d5a0640>]"
            ]
          },
          "metadata": {},
          "execution_count": 30
        },
        {
          "output_type": "display_data",
          "data": {
            "text/plain": [
              "<Figure size 640x480 with 1 Axes>"
            ],
            "image/png": "[encoded data removed]"
          },
          "metadata": {}
        }
      ],
      "source": [
        "y_pred = model.forward(x_train_bias)\n",
        "plt.plot(x_train, y_train, 'ro', label='Original data')\n",
        "plt.plot(x_train, y_pred, 'kx-', label='Fitting Line')"
      ]
    },
    {
      "cell_type": "markdown",
      "metadata": {
        "hidden": true,
        "id": "kQ1hGdItf9So"
      },
      "source": [
        "### Parâmetros treinados"
      ]
    },
    {
      "cell_type": "code",
      "execution_count": 31,
      "metadata": {
        "ExecuteTime": {
          "end_time": "2017-10-08T11:19:39.417569Z",
          "start_time": "2017-10-08T11:19:39.411060Z"
        },
        "colab": {
          "base_uri": "https://localhost:8080/"
        },
        "hidden": true,
        "id": "IcEOxTg9f9Sp",
        "outputId": "ebd88ea6-0746-47e3-9913-cf7214661663"
      },
      "outputs": [
        {
          "output_type": "stream",
          "name": "stdout",
          "text": [
            "[[0.26305351 0.6831633 ]]\n"
          ]
        }
      ],
      "source": [
        "print(model.w)"
      ]
    },
    {
      "cell_type": "markdown",
      "metadata": {
        "hidden": true,
        "id": "73n0qSOMf9Sr"
      },
      "source": [
        "### Avaliação do modelo"
      ]
    },
    {
      "cell_type": "code",
      "execution_count": 32,
      "metadata": {
        "colab": {
          "base_uri": "https://localhost:8080/"
        },
        "hidden": true,
        "id": "dI2TE8W6f9Ss",
        "outputId": "ce6d03c8-44cc-4db4-de0c-567bc7cfa3bf"
      },
      "outputs": [
        {
          "output_type": "execute_result",
          "data": {
            "text/plain": [
              "0.021170077931248157"
            ]
          },
          "metadata": {},
          "execution_count": 32
        }
      ],
      "source": [
        "loss = np.square(y_pred - y_train).mean()\n",
        "loss"
      ]
    },
    {
      "cell_type": "markdown",
      "metadata": {
        "hidden": true,
        "id": "cv6q3ElSf9Sv"
      },
      "source": [
        "### Valor ótimo, solução analítica"
      ]
    },
    {
      "cell_type": "markdown",
      "metadata": {
        "hidden": true,
        "id": "qYgHOaNmf9Sv"
      },
      "source": [
        "$$  \\mathbf{w} =(\\mathbf{x^T} \\mathbf{x})^{−1}\\mathbf{x^T} \\mathbf{y} $$"
      ]
    },
    {
      "cell_type": "code",
      "execution_count": 33,
      "metadata": {
        "ExecuteTime": {
          "end_time": "2017-10-08T11:19:39.432480Z",
          "start_time": "2017-10-08T11:19:39.420006Z"
        },
        "colab": {
          "base_uri": "https://localhost:8080/"
        },
        "hidden": true,
        "id": "OmrggYvmf9Sw",
        "outputId": "3e7ed105-a4f2-423b-ae63-667dd707939d"
      },
      "outputs": [
        {
          "output_type": "stream",
          "name": "stdout",
          "text": [
            "[[0.26134159 0.68646976]]\n"
          ]
        }
      ],
      "source": [
        "x = x_train_bias\n",
        "y = y_train\n",
        "w_opt = (np.linalg.inv((x.T).dot(x)).dot(x.T)).dot(y)\n",
        "print(w_opt.T)"
      ]
    },
    {
      "cell_type": "markdown",
      "metadata": {
        "heading_collapsed": true,
        "id": "2eMOcW8Ff9Sz"
      },
      "source": [
        "# Exercícios"
      ]
    },
    {
      "cell_type": "markdown",
      "metadata": {
        "hidden": true,
        "id": "tCKeOB1-f9S1"
      },
      "source": [
        "## Questões"
      ]
    },
    {
      "cell_type": "markdown",
      "metadata": {
        "hidden": true,
        "id": "c-KyP13vf9S2"
      },
      "source": [
        "1. Quantos parâmetros são treinados nesse modelo?\n",
        "\n",
        "2, w0 e w1\n",
        "\n",
        "2. Qual é o número de atributos de entrada para a rede?\n",
        "\n",
        "2 (bias + x)\n",
        "\n",
        "3. Qual é o número de saídas da rede?\n",
        "\n",
        "1\n",
        "\n",
        "4. Suponha que eu tenha agora 5 mil amostras para fazer a predição. Qual é o shape da matriz de entrada?\n",
        "\n",
        "[5000,2] entrada\n",
        "\n",
        "   Qual é o shape do matriz de saída?\n",
        "\n",
        "   [5000,1] Saída\n"
      ]
    },
    {
      "cell_type": "markdown",
      "metadata": {
        "hidden": true,
        "id": "oaj0t2gpf9S3"
      },
      "source": [
        "## Atividades"
      ]
    },
    {
      "cell_type": "markdown",
      "metadata": {
        "hidden": true,
        "id": "pR_fNYurf9S3"
      },
      "source": [
        "1. Modifique o laço do treinamento via gradiente descendente para guardar em uma lista, o valor da perda no final\n",
        "   de cada época. Após o treinamento, plote o valor da perda em função da época.\n",
        "2. Calcule o valor da perda (MSE) da rede com os parâmetros inicializados, sem serem treinados.\n",
        "3. Coloque os valores dos pesos da solução ótima analítica no modelo da rede e calcule o valor da perda (MSE) e\n",
        "   compare com o valor da perda obtida pelo método da otimização via gradiente descendente."
      ]
    },
    {
      "cell_type": "code",
      "source": [
        "#1\n",
        "\n",
        "model = Net(2,1) #Instanciando: atualizando os pesos\n",
        "\n",
        "num_epochs = 100\n",
        "learning_rate = 0.5\n",
        "losses = []\n",
        "for epoch in range(num_epochs):\n",
        "\n",
        "    # forward - predict\n",
        "    y_pred = model.forward(x_train_bias)\n",
        "\n",
        "    #loss cálculo da função de perda\n",
        "    loss = np.square(y_pred - y_train).mean()\n",
        "    losses.append(loss)\n",
        "\n",
        "\n",
        "    # cálculo do gradiente pelas derivadas parciais\n",
        "    w_grad = (2.0/n_samples) * (x_train_bias.T).dot(x_train_bias.dot(model.w.T) - y_train)\n",
        "\n",
        "\n",
        "    # gradiente descendente\n",
        "\n",
        "    model.w = model.w - learning_rate * w_grad.T\n",
        "\n",
        "\n",
        "    # verbose\n",
        "    if (epoch+1) % 1 == 0:\n",
        "        print('Epoch[{}/{}], loss: {:.6f}'\n",
        "              .format(epoch+1, num_epochs, loss))\n",
        "\n",
        "print(losses)"
      ],
      "metadata": {
        "colab": {
          "base_uri": "https://localhost:8080/"
        },
        "id": "wByZQ3x9EImk",
        "outputId": "d1267d70-dd9c-413e-9082-e18b03035e18"
      },
      "execution_count": 38,
      "outputs": [
        {
          "output_type": "stream",
          "name": "stdout",
          "text": [
            "Epoch[1/100], loss: 0.476608\n",
            "Epoch[2/100], loss: 0.064072\n",
            "Epoch[3/100], loss: 0.035943\n",
            "Epoch[4/100], loss: 0.033005\n",
            "Epoch[5/100], loss: 0.031812\n",
            "Epoch[6/100], loss: 0.030825\n",
            "Epoch[7/100], loss: 0.029935\n",
            "Epoch[8/100], loss: 0.029128\n",
            "Epoch[9/100], loss: 0.028395\n",
            "Epoch[10/100], loss: 0.027730\n",
            "Epoch[11/100], loss: 0.027125\n",
            "Epoch[12/100], loss: 0.026577\n",
            "Epoch[13/100], loss: 0.026079\n",
            "Epoch[14/100], loss: 0.025627\n",
            "Epoch[15/100], loss: 0.025216\n",
            "Epoch[16/100], loss: 0.024843\n",
            "Epoch[17/100], loss: 0.024505\n",
            "Epoch[18/100], loss: 0.024198\n",
            "Epoch[19/100], loss: 0.023919\n",
            "Epoch[20/100], loss: 0.023666\n",
            "Epoch[21/100], loss: 0.023436\n",
            "Epoch[22/100], loss: 0.023227\n",
            "Epoch[23/100], loss: 0.023038\n",
            "Epoch[24/100], loss: 0.022866\n",
            "Epoch[25/100], loss: 0.022709\n",
            "Epoch[26/100], loss: 0.022568\n",
            "Epoch[27/100], loss: 0.022439\n",
            "Epoch[28/100], loss: 0.022322\n",
            "Epoch[29/100], loss: 0.022216\n",
            "Epoch[30/100], loss: 0.022119\n",
            "Epoch[31/100], loss: 0.022032\n",
            "Epoch[32/100], loss: 0.021952\n",
            "Epoch[33/100], loss: 0.021880\n",
            "Epoch[34/100], loss: 0.021815\n",
            "Epoch[35/100], loss: 0.021755\n",
            "Epoch[36/100], loss: 0.021701\n",
            "Epoch[37/100], loss: 0.021652\n",
            "Epoch[38/100], loss: 0.021608\n",
            "Epoch[39/100], loss: 0.021568\n",
            "Epoch[40/100], loss: 0.021531\n",
            "Epoch[41/100], loss: 0.021498\n",
            "Epoch[42/100], loss: 0.021467\n",
            "Epoch[43/100], loss: 0.021440\n",
            "Epoch[44/100], loss: 0.021415\n",
            "Epoch[45/100], loss: 0.021392\n",
            "Epoch[46/100], loss: 0.021372\n",
            "Epoch[47/100], loss: 0.021353\n",
            "Epoch[48/100], loss: 0.021336\n",
            "Epoch[49/100], loss: 0.021321\n",
            "Epoch[50/100], loss: 0.021307\n",
            "Epoch[51/100], loss: 0.021294\n",
            "Epoch[52/100], loss: 0.021283\n",
            "Epoch[53/100], loss: 0.021272\n",
            "Epoch[54/100], loss: 0.021263\n",
            "Epoch[55/100], loss: 0.021254\n",
            "Epoch[56/100], loss: 0.021246\n",
            "Epoch[57/100], loss: 0.021239\n",
            "Epoch[58/100], loss: 0.021233\n",
            "Epoch[59/100], loss: 0.021227\n",
            "Epoch[60/100], loss: 0.021222\n",
            "Epoch[61/100], loss: 0.021217\n",
            "Epoch[62/100], loss: 0.021213\n",
            "Epoch[63/100], loss: 0.021209\n",
            "Epoch[64/100], loss: 0.021205\n",
            "Epoch[65/100], loss: 0.021202\n",
            "Epoch[66/100], loss: 0.021199\n",
            "Epoch[67/100], loss: 0.021196\n",
            "Epoch[68/100], loss: 0.021194\n",
            "Epoch[69/100], loss: 0.021191\n",
            "Epoch[70/100], loss: 0.021189\n",
            "Epoch[71/100], loss: 0.021188\n",
            "Epoch[72/100], loss: 0.021186\n",
            "Epoch[73/100], loss: 0.021184\n",
            "Epoch[74/100], loss: 0.021183\n",
            "Epoch[75/100], loss: 0.021182\n",
            "Epoch[76/100], loss: 0.021181\n",
            "Epoch[77/100], loss: 0.021180\n",
            "Epoch[78/100], loss: 0.021179\n",
            "Epoch[79/100], loss: 0.021178\n",
            "Epoch[80/100], loss: 0.021177\n",
            "Epoch[81/100], loss: 0.021176\n",
            "Epoch[82/100], loss: 0.021176\n",
            "Epoch[83/100], loss: 0.021175\n",
            "Epoch[84/100], loss: 0.021175\n",
            "Epoch[85/100], loss: 0.021174\n",
            "Epoch[86/100], loss: 0.021174\n",
            "Epoch[87/100], loss: 0.021173\n",
            "Epoch[88/100], loss: 0.021173\n",
            "Epoch[89/100], loss: 0.021173\n",
            "Epoch[90/100], loss: 0.021172\n",
            "Epoch[91/100], loss: 0.021172\n",
            "Epoch[92/100], loss: 0.021172\n",
            "Epoch[93/100], loss: 0.021172\n",
            "Epoch[94/100], loss: 0.021171\n",
            "Epoch[95/100], loss: 0.021171\n",
            "Epoch[96/100], loss: 0.021171\n",
            "Epoch[97/100], loss: 0.021171\n",
            "Epoch[98/100], loss: 0.021171\n",
            "Epoch[99/100], loss: 0.021171\n",
            "Epoch[100/100], loss: 0.021171\n",
            "[0.47660782116551287, 0.06407200029749549, 0.035942908579775085, 0.03300490266292989, 0.03181196546433303, 0.030825092901589076, 0.029935385529584916, 0.02912802802772866, 0.028395053380487957, 0.02772958609302307, 0.027125407232531727, 0.026576872141323146, 0.0260788561236504, 0.025626706465301508, 0.025216198958909208, 0.02484349843886331, 0.02450512295125458, 0.024197911223725086, 0.023918993131286922, 0.02366576288218495, 0.023435854673292168, 0.02322712058759848, 0.023037610527300034, 0.022865553995014127, 0.022709343552910807, 0.022567519805227875, 0.02243875776386878, 0.022321854469703757, 0.022215717753926483, 0.022119356034468997, 0.022031869052148097, 0.021952439459995664, 0.021880325187196053, 0.02181485250629099, 0.021755409738882, 0.021701441541026104, 0.02165244371493613, 0.02160795849851379, 0.021567570288708128, 0.021530901758744853, 0.02149761033295159, 0.021467384986245338, 0.021439943338381232, 0.02141502901581559, 0.021392409256536616, 0.021371872735485683, 0.021353227590253418, 0.021336299628605483, 0.021320930701091943, 0.021306977223536357, 0.021294308835600843, 0.02128280718289489, 0.021272364811249674, 0.021262884162827705, 0.02125427666468889, 0.02124646190129802, 0.021239366863242782, 0.021232925265143466, 0.02122707692638191, 0.02122176720886421, 0.021216946506564426, 0.021212569782080366, 0.021208596145871762, 0.02120498847424977, 0.021201713062549064, 0.021198739310241948, 0.02119603943505309, 0.021193588213403603, 0.021191362744759815, 0.021189342237685115, 0.021187507815595943, 0.021185842340407372, 0.021184330252420572, 0.021182957424956378, 0.021181711032376774, 0.021180579430261425, 0.021179552046619695, 0.02117861928312183, 0.02117777242542662, 0.021177003561767615, 0.021176305509037537, 0.021175671745680066, 0.021175096350762215, 0.021174573948658057, 0.0211740996588269, 0.021173669050216896, 0.021173278099867913, 0.021172923155327043, 0.02117260090052559, 0.021172308324798664, 0.021172042694758107, 0.021171801528755734, 0.02117158257369863, 0.0211713837839996, 0.021171203302466243, 0.021171039442950162, 0.021170890674594153, 0.021170755607530123, 0.02117063297989428, 0.02117052164603816]\n"
          ]
        }
      ]
    },
    {
      "cell_type": "code",
      "source": [
        "#2\n",
        "\n",
        "model = Net(2,1) #Instanciando: atualizando os pesos\n",
        "model.w\n",
        "\n",
        "pred = model.forward(x_train_bias)\n",
        "\n",
        "\n",
        "loss2 = np.square(pred - y_train).mean()\n",
        "\n",
        "print(loss2)\n",
        "\n"
      ],
      "metadata": {
        "colab": {
          "base_uri": "https://localhost:8080/"
        },
        "id": "iBTG_Or3EYcG",
        "outputId": "0bf7a46c-2f4e-4235-bafd-d46da7da8695"
      },
      "execution_count": 42,
      "outputs": [
        {
          "output_type": "stream",
          "name": "stdout",
          "text": [
            "0.2951019691064489\n"
          ]
        }
      ]
    },
    {
      "cell_type": "code",
      "source": [
        "#3\n",
        "\n",
        "model = Net(2,1) #Instanciando: atualizando os pesos\n",
        "\n",
        "\n",
        "#solução ótima\n",
        "x = x_train_bias\n",
        "y = y_train\n",
        "w_opt = (np.linalg.inv((x.T).dot(x)).dot(x.T)).dot(y)\n",
        "\n",
        "model.w = w_opt.T\n",
        "\n",
        "pred = model.forward(x_train_bias)\n",
        "\n",
        "loss3 = np.square(pred - y_train).mean()\n",
        "\n",
        "loss3\n",
        "\n",
        "#Comparado a 0.021170\n",
        "\n",
        "\n"
      ],
      "metadata": {
        "colab": {
          "base_uri": "https://localhost:8080/"
        },
        "id": "Ax5Zh0BWE2Et",
        "outputId": "f0991984-a0d8-45a4-9dec-a8260e3e703c"
      },
      "execution_count": 45,
      "outputs": [
        {
          "output_type": "execute_result",
          "data": {
            "text/plain": [
              "0.021169424119097165"
            ]
          },
          "metadata": {},
          "execution_count": 45
        }
      ]
    },
    {
      "cell_type": "markdown",
      "metadata": {
        "collapsed": true,
        "id": "tgmMhSm2f9S4"
      },
      "source": [
        "# Aprendizados"
      ]
    }
  ],
  "metadata": {
    "accelerator": "TPU",
    "colab": {
      "provenance": []
    },
    "kernelspec": {
      "display_name": "Python 3.10.2 64-bit",
      "language": "python",
      "name": "python3"
    },
    "language_info": {
      "name": "python",
      "version": "3.10.2"
    },
    "vscode": {
      "interpreter": {
        "hash": "5fe3e6f0cdaab8afdc61c52912fda83f7c0a71baaea1897dd7498e2df01e69ec"
      }
    }
  },
  "nbformat": 4,
  "nbformat_minor": 0
}